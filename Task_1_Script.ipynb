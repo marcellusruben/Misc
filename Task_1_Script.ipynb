{
 "cells": [
  {
   "cell_type": "markdown",
   "metadata": {},
   "source": [
    "# Task 1: Machine Learning Pipeline - Script"
   ]
  },
  {
   "cell_type": "code",
   "execution_count": 5,
   "metadata": {},
   "outputs": [],
   "source": [
    "import numpy as np\n",
    "import pandas as pd\n",
    "import matplotlib\n",
    "import matplotlib.pyplot as plt\n",
    "import seaborn as sns\n",
    "from matplotlib import pyplot\n",
    "from sklearn.compose import ColumnTransformer\n",
    "from sklearn.pipeline import Pipeline\n",
    "from sklearn.preprocessing import OneHotEncoder\n",
    "from sklearn.preprocessing import OrdinalEncoder\n",
    "from sklearn.preprocessing import MinMaxScaler\n",
    "from sklearn.preprocessing import StandardScaler\n",
    "from sklearn.model_selection import train_test_split, StratifiedKFold\n",
    "from sklearn.linear_model import LogisticRegression\n",
    "from sklearn.model_selection import cross_val_score\n",
    "from sklearn.model_selection import KFold\n",
    "from sklearn.tree import DecisionTreeRegressor\n",
    "from pycaret.classification import *\n",
    "from catboost import CatBoostClassifier\n",
    "from sklearn.metrics import f1_score\n",
    "from sklearn.metrics import accuracy_score\n",
    "from statistics import mean\n",
    "from imblearn.over_sampling import SMOTE\n",
    "from imblearn.pipeline import Pipeline as imbpipeline\n",
    "from sklearn.tree import DecisionTreeRegressor"
   ]
  },
  {
   "cell_type": "code",
   "execution_count": 24,
   "metadata": {},
   "outputs": [],
   "source": [
    "def read_data(filename):\n",
    "    \n",
    "    df = pd.read_csv(filename)\n",
    "    df['previous_year_rating'].fillna(df['previous_year_rating'].median(), inplace=True)\n",
    "    df['education'].fillna('others', inplace=True)\n",
    "    \n",
    "    x, y = df.iloc[:, 1:-1], df.iloc[:, [-1]]\n",
    "    \n",
    "    return x,y\n",
    "\n",
    "def pipeline_ml(cat, num, model_cat):\n",
    "    \n",
    "    trans = [('cat', OneHotEncoder(), cat), ('num', MinMaxScaler(), num)]\n",
    "    col_transform = ColumnTransformer(transformers=trans)\n",
    "    \n",
    "    pipeline_cat = Pipeline(steps=[('prep',col_transform), ('m', model_cat)])\n",
    "    \n",
    "    return pipeline_cat\n",
    "\n",
    "def model_building_and_cross_val(x,y, cat, num):\n",
    "    \n",
    "    model_cat = CatBoostClassifier(verbose=0, n_estimators=100)\n",
    "    pipeline_cat = pipeline_ml(cat, num, model_cat)\n",
    "    print('With 10 fold cross-validation:')\n",
    "    evaluation_metrics = ['accuracy', 'f1']\n",
    "    cv = KFold(n_splits=10, shuffle=True, random_state=1)\n",
    "    for i,v in enumerate(evaluation_metrics):\n",
    "        print(str(v)+ ': ' + str(mean(cross_val_score(pipeline_cat, x, y, scoring= v, cv=cv, n_jobs=-1))))\n",
    "\n",
    "def compute_acc_and_f1(filename):\n",
    "    \n",
    "    x,y = read_data(filename)\n",
    "    numerical_feat = x.select_dtypes(include=['int64', 'float64']).columns\n",
    "    categorical_feat = x.select_dtypes(include=['object', 'bool']).columns\n",
    "\n",
    "    model_building_and_cross_val(x,y, categorical_feat, numerical_feat)\n"
   ]
  },
  {
   "cell_type": "code",
   "execution_count": 25,
   "metadata": {},
   "outputs": [
    {
     "name": "stdout",
     "output_type": "stream",
     "text": [
      "With 10 fold cross-validation:\n",
      "accuracy: 0.9422528922075863\n",
      "f1: 0.5125137608376984\n"
     ]
    }
   ],
   "source": [
    "compute_acc_and_f1('promotion_dataset.csv')"
   ]
  },
  {
   "cell_type": "code",
   "execution_count": null,
   "metadata": {},
   "outputs": [],
   "source": []
  }
 ],
 "metadata": {
  "kernelspec": {
   "display_name": "Python 3",
   "language": "python",
   "name": "python3"
  },
  "language_info": {
   "codemirror_mode": {
    "name": "ipython",
    "version": 3
   },
   "file_extension": ".py",
   "mimetype": "text/x-python",
   "name": "python",
   "nbconvert_exporter": "python",
   "pygments_lexer": "ipython3",
   "version": "3.7.6"
  }
 },
 "nbformat": 4,
 "nbformat_minor": 4
}
